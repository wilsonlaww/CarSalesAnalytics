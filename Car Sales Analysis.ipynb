{
 "cells": [
  {
   "cell_type": "markdown",
   "metadata": {
    "application/vnd.databricks.v1+cell": {
     "cellMetadata": {
      "byteLimit": 2048000,
      "rowLimit": 10000
     },
     "inputWidgets": {},
     "nuid": "fda56a48-a387-4ee6-9e82-7b328c4bd7ca",
     "showTitle": false,
     "tableResultSettingsMap": {},
     "title": ""
    }
   },
   "source": [
    "#🚗 Car Sales Analysis with Apache Spark & SQL\n",
    "\n",
    "This project leverages Apache Spark, PySpark, and the Medallion Architecture to build a scalable data pipeline for analyzing used car sales data. By implementing the Bronze, Silver, and Gold layers, we clean, transform, and extract business insights to support decisions in pricing strategy, inventory management, and marketing optimization.\n"
   ]
  },
  {
   "cell_type": "markdown",
   "metadata": {
    "application/vnd.databricks.v1+cell": {
     "cellMetadata": {
      "byteLimit": 2048000,
      "rowLimit": 10000
     },
     "inputWidgets": {},
     "nuid": "aa0673f3-488a-4956-9aa6-ab36f748fb59",
     "showTitle": false,
     "tableResultSettingsMap": {},
     "title": ""
    }
   },
   "source": [
    "### 🥉 Bronze Layer: Raw Ingestion\n",
    "\n",
    "- Ingested raw JSON data containing listings of used cars.\n",
    "- Used PySpark to read and initially explore semi-structured input data.\n",
    "- Stored the unfiltered data as a raw DataFrame for auditability and traceability."
   ]
  },
  {
   "cell_type": "code",
   "execution_count": 0,
   "metadata": {
    "application/vnd.databricks.v1+cell": {
     "cellMetadata": {
      "byteLimit": 2048000,
      "rowLimit": 10000
     },
     "inputWidgets": {},
     "nuid": "c70a7680-eb32-4cf5-8725-17387c448f5a",
     "showTitle": false,
     "tableResultSettingsMap": {},
     "title": ""
    }
   },
   "outputs": [
    {
     "output_type": "display_data",
     "data": {
      "text/html": [
       "<style scoped>\n",
       "  .table-result-container {\n",
       "    max-height: 300px;\n",
       "    overflow: auto;\n",
       "  }\n",
       "  table, th, td {\n",
       "    border: 1px solid black;\n",
       "    border-collapse: collapse;\n",
       "  }\n",
       "  th, td {\n",
       "    padding: 5px;\n",
       "  }\n",
       "  th {\n",
       "    text-align: left;\n",
       "  }\n",
       "</style><div class='table-result-container'><table class='table-result'><thead style='background-color: white'><tr><th>price</th><th>brand</th><th>model</th><th>year</th><th>title_status</th><th>mileage</th><th>color</th><th>vin</th><th>lot</th><th>state</th><th>country</th><th>condition</th></tr></thead><tbody><tr><td>6300</td><td>toyota</td><td>cruiser</td><td>2008</td><td>clean vehicle</td><td>274117.0</td><td>black</td><td>  jtezu11f88k007763</td><td>159348797</td><td>new jersey</td><td> usa</td><td>10 days left</td></tr><tr><td>2899</td><td>ford</td><td>se</td><td>2011</td><td>clean vehicle</td><td>190552.0</td><td>silver</td><td>  2fmdk3gc4bbb02217</td><td>166951262</td><td>tennessee</td><td> usa</td><td>6 days left</td></tr><tr><td>5350</td><td>dodge</td><td>mpv</td><td>2018</td><td>clean vehicle</td><td>39590.0</td><td>silver</td><td>  3c4pdcgg5jt346413</td><td>167655728</td><td>georgia</td><td> usa</td><td>2 days left</td></tr><tr><td>25000</td><td>ford</td><td>door</td><td>2014</td><td>clean vehicle</td><td>64146.0</td><td>blue</td><td>  1ftfw1et4efc23745</td><td>167753855</td><td>virginia</td><td> usa</td><td>22 hours left</td></tr><tr><td>27700</td><td>chevrolet</td><td>1500</td><td>2018</td><td>clean vehicle</td><td>6654.0</td><td>red</td><td>  3gcpcrec2jg473991</td><td>167763266</td><td>florida</td><td> usa</td><td>22 hours left</td></tr></tbody></table></div>"
      ]
     },
     "metadata": {
      "application/vnd.databricks.v1+output": {
       "addedWidgets": {},
       "aggData": [],
       "aggError": "",
       "aggOverflow": false,
       "aggSchema": [],
       "aggSeriesLimitReached": false,
       "aggType": "",
       "arguments": {},
       "columnCustomDisplayInfos": {},
       "data": [
        [
         6300,
         "toyota",
         "cruiser",
         2008,
         "clean vehicle",
         274117.0,
         "black",
         "  jtezu11f88k007763",
         159348797,
         "new jersey",
         " usa",
         "10 days left"
        ],
        [
         2899,
         "ford",
         "se",
         2011,
         "clean vehicle",
         190552.0,
         "silver",
         "  2fmdk3gc4bbb02217",
         166951262,
         "tennessee",
         " usa",
         "6 days left"
        ],
        [
         5350,
         "dodge",
         "mpv",
         2018,
         "clean vehicle",
         39590.0,
         "silver",
         "  3c4pdcgg5jt346413",
         167655728,
         "georgia",
         " usa",
         "2 days left"
        ],
        [
         25000,
         "ford",
         "door",
         2014,
         "clean vehicle",
         64146.0,
         "blue",
         "  1ftfw1et4efc23745",
         167753855,
         "virginia",
         " usa",
         "22 hours left"
        ],
        [
         27700,
         "chevrolet",
         "1500",
         2018,
         "clean vehicle",
         6654.0,
         "red",
         "  3gcpcrec2jg473991",
         167763266,
         "florida",
         " usa",
         "22 hours left"
        ]
       ],
       "datasetInfos": [],
       "dbfsResultPath": null,
       "isJsonSchema": true,
       "metadata": {},
       "overflow": false,
       "plotOptions": {
        "customPlotOptions": {},
        "displayType": "table",
        "pivotAggregation": null,
        "pivotColumns": null,
        "xColumns": null,
        "yColumns": null
       },
       "removedWidgets": [],
       "schema": [
        {
         "metadata": "{}",
         "name": "price",
         "type": "\"long\""
        },
        {
         "metadata": "{}",
         "name": "brand",
         "type": "\"string\""
        },
        {
         "metadata": "{}",
         "name": "model",
         "type": "\"string\""
        },
        {
         "metadata": "{}",
         "name": "year",
         "type": "\"long\""
        },
        {
         "metadata": "{}",
         "name": "title_status",
         "type": "\"string\""
        },
        {
         "metadata": "{}",
         "name": "mileage",
         "type": "\"double\""
        },
        {
         "metadata": "{}",
         "name": "color",
         "type": "\"string\""
        },
        {
         "metadata": "{}",
         "name": "vin",
         "type": "\"string\""
        },
        {
         "metadata": "{}",
         "name": "lot",
         "type": "\"long\""
        },
        {
         "metadata": "{}",
         "name": "state",
         "type": "\"string\""
        },
        {
         "metadata": "{}",
         "name": "country",
         "type": "\"string\""
        },
        {
         "metadata": "{}",
         "name": "condition",
         "type": "\"string\""
        }
       ],
       "type": "table"
      }
     },
     "output_type": "display_data"
    }
   ],
   "source": [
    "bronze_data = spark.table(\"default.bronze_data\")\n",
    "display(bronze_data.limit(5))"
   ]
  },
  {
   "cell_type": "markdown",
   "metadata": {
    "application/vnd.databricks.v1+cell": {
     "cellMetadata": {
      "byteLimit": 2048000,
      "rowLimit": 10000
     },
     "inputWidgets": {},
     "nuid": "4bedf2af-830c-4387-81d6-cdef671fe74e",
     "showTitle": false,
     "tableResultSettingsMap": {},
     "title": ""
    }
   },
   "source": [
    "### 🥈 Silver Layer: Data Cleaning and Transformation\n",
    "\n",
    "- Applied PySpark SQL transformations to filter out incomplete, duplicate, or irrelevant rows.\n",
    "- Standardized columns (e.g., trimming whitespace, converting strings to lowercase) to ensure schema consistency.\n",
    "- Extracted meaningful features such as vehicle age, price per mile, and encoded categorical variables for ML-readiness."
   ]
  },
  {
   "cell_type": "code",
   "execution_count": 0,
   "metadata": {
    "application/vnd.databricks.v1+cell": {
     "cellMetadata": {
      "byteLimit": 2048000,
      "implicitDf": true,
      "rowLimit": 10000
     },
     "inputWidgets": {},
     "nuid": "12f396c2-8258-46b1-93b1-dca52a7f1475",
     "showTitle": false,
     "tableResultSettingsMap": {},
     "title": ""
    }
   },
   "outputs": [
    {
     "output_type": "display_data",
     "data": {
      "text/html": [
       "<style scoped>\n",
       "  .table-result-container {\n",
       "    max-height: 300px;\n",
       "    overflow: auto;\n",
       "  }\n",
       "  table, th, td {\n",
       "    border: 1px solid black;\n",
       "    border-collapse: collapse;\n",
       "  }\n",
       "  th, td {\n",
       "    padding: 5px;\n",
       "  }\n",
       "  th {\n",
       "    text-align: left;\n",
       "  }\n",
       "</style><div class='table-result-container'><table class='table-result'><thead style='background-color: white'><tr><th>price</th><th>brand</th><th>model</th><th>year</th><th>mileage</th></tr></thead><tbody><tr><td>5350</td><td>dodge</td><td>mpv</td><td>2018</td><td>39590.0</td></tr><tr><td>27700</td><td>chevrolet</td><td>1500</td><td>2018</td><td>6654.0</td></tr><tr><td>5700</td><td>dodge</td><td>mpv</td><td>2018</td><td>45561.0</td></tr><tr><td>13350</td><td>gmc</td><td>door</td><td>2017</td><td>23525.0</td></tr><tr><td>14600</td><td>chevrolet</td><td>malibu</td><td>2018</td><td>9371.0</td></tr></tbody></table></div>"
      ]
     },
     "metadata": {
      "application/vnd.databricks.v1+output": {
       "addedWidgets": {},
       "aggData": [],
       "aggError": "",
       "aggOverflow": false,
       "aggSchema": [],
       "aggSeriesLimitReached": false,
       "aggType": "",
       "arguments": {},
       "columnCustomDisplayInfos": {},
       "data": [
        [
         5350,
         "dodge",
         "mpv",
         2018,
         39590.0
        ],
        [
         27700,
         "chevrolet",
         "1500",
         2018,
         6654.0
        ],
        [
         5700,
         "dodge",
         "mpv",
         2018,
         45561.0
        ],
        [
         13350,
         "gmc",
         "door",
         2017,
         23525.0
        ],
        [
         14600,
         "chevrolet",
         "malibu",
         2018,
         9371.0
        ]
       ],
       "datasetInfos": [],
       "dbfsResultPath": null,
       "isJsonSchema": true,
       "metadata": {},
       "overflow": false,
       "plotOptions": {
        "customPlotOptions": {},
        "displayType": "table",
        "pivotAggregation": null,
        "pivotColumns": null,
        "xColumns": null,
        "yColumns": null
       },
       "removedWidgets": [],
       "schema": [
        {
         "metadata": "{}",
         "name": "price",
         "type": "\"long\""
        },
        {
         "metadata": "{}",
         "name": "brand",
         "type": "\"string\""
        },
        {
         "metadata": "{}",
         "name": "model",
         "type": "\"string\""
        },
        {
         "metadata": "{}",
         "name": "year",
         "type": "\"long\""
        },
        {
         "metadata": "{}",
         "name": "mileage",
         "type": "\"double\""
        }
       ],
       "type": "table"
      }
     },
     "output_type": "display_data"
    }
   ],
   "source": [
    "silver_car = spark.sql(\"\"\"\n",
    "    SELECT price, TRIM(brand) AS brand, model, year, mileage\n",
    "    FROM bronze_data\n",
    "    WHERE price IS NOT NULL \n",
    "      AND price != 0 \n",
    "      AND brand IS NOT NULL \n",
    "      AND model IS NOT NULL \n",
    "      AND year IS NOT NULL \n",
    "      AND year >= 2015 \n",
    "      AND mileage IS NOT NULL\n",
    "\"\"\")\n",
    "\n",
    "silver_car.createOrReplaceTempView(\"silver_car\")\n",
    "\n",
    "display(silver_car.limit(5))"
   ]
  },
  {
   "cell_type": "markdown",
   "metadata": {
    "application/vnd.databricks.v1+cell": {
     "cellMetadata": {
      "byteLimit": 2048000,
      "rowLimit": 10000
     },
     "inputWidgets": {},
     "nuid": "e304e3c4-ae72-4c08-a7a2-842d39856750",
     "showTitle": false,
     "tableResultSettingsMap": {},
     "title": ""
    }
   },
   "source": [
    "### 🥇 Gold Layer: Aggregated Insights and Business Value\n",
    "\n",
    "- Executed Spark SQL queries to compute average car prices by brand, year, mileage, and region.\n",
    "- Identified pricing trends and outliers that inform optimal listing strategies for dealerships.\n",
    "- Created visualization-ready DataFrames for downstream tools like Tableau or Power BI to help non-technical stakeholders interpret insights.\n"
   ]
  },
  {
   "cell_type": "code",
   "execution_count": 0,
   "metadata": {
    "application/vnd.databricks.v1+cell": {
     "cellMetadata": {
      "byteLimit": 2048000,
      "implicitDf": true,
      "rowLimit": 10000
     },
     "inputWidgets": {},
     "nuid": "e3b428f6-f2c6-4c88-99aa-519853a166aa",
     "showTitle": false,
     "tableResultSettingsMap": {},
     "title": ""
    }
   },
   "outputs": [
    {
     "output_type": "display_data",
     "data": {
      "text/html": [
       "<style scoped>\n",
       "  .table-result-container {\n",
       "    max-height: 300px;\n",
       "    overflow: auto;\n",
       "  }\n",
       "  table, th, td {\n",
       "    border: 1px solid black;\n",
       "    border-collapse: collapse;\n",
       "  }\n",
       "  th, td {\n",
       "    padding: 5px;\n",
       "  }\n",
       "  th {\n",
       "    text-align: left;\n",
       "  }\n",
       "</style><div class='table-result-container'><table class='table-result'><thead style='background-color: white'><tr><th>brand</th><th>year</th><th>total_listings</th><th>avg_price</th><th>avg_mileage</th></tr></thead><tbody><tr><td>harley-davidson</td><td>2016</td><td>1</td><td>54680.0</td><td>9502.0</td></tr><tr><td>chevrolet</td><td>2015</td><td>22</td><td>17488.64</td><td>75061.27</td></tr><tr><td>hyundai</td><td>2015</td><td>2</td><td>5625.0</td><td>99943.0</td></tr><tr><td>mercedes-benz</td><td>2015</td><td>2</td><td>17950.0</td><td>66091.5</td></tr><tr><td>honda</td><td>2015</td><td>3</td><td>6120.0</td><td>95926.0</td></tr></tbody></table></div>"
      ]
     },
     "metadata": {
      "application/vnd.databricks.v1+output": {
       "addedWidgets": {},
       "aggData": [],
       "aggError": "",
       "aggOverflow": false,
       "aggSchema": [],
       "aggSeriesLimitReached": false,
       "aggType": "",
       "arguments": {},
       "columnCustomDisplayInfos": {},
       "data": [
        [
         "harley-davidson",
         2016,
         1,
         54680.0,
         9502.0
        ],
        [
         "chevrolet",
         2015,
         22,
         17488.64,
         75061.27
        ],
        [
         "hyundai",
         2015,
         2,
         5625.0,
         99943.0
        ],
        [
         "mercedes-benz",
         2015,
         2,
         17950.0,
         66091.5
        ],
        [
         "honda",
         2015,
         3,
         6120.0,
         95926.0
        ]
       ],
       "datasetInfos": [],
       "dbfsResultPath": null,
       "isJsonSchema": true,
       "metadata": {},
       "overflow": false,
       "plotOptions": {
        "customPlotOptions": {},
        "displayType": "table",
        "pivotAggregation": null,
        "pivotColumns": null,
        "xColumns": null,
        "yColumns": null
       },
       "removedWidgets": [],
       "schema": [
        {
         "metadata": "{}",
         "name": "brand",
         "type": "\"string\""
        },
        {
         "metadata": "{}",
         "name": "year",
         "type": "\"long\""
        },
        {
         "metadata": "{}",
         "name": "total_listings",
         "type": "\"long\""
        },
        {
         "metadata": "{}",
         "name": "avg_price",
         "type": "\"double\""
        },
        {
         "metadata": "{}",
         "name": "avg_mileage",
         "type": "\"double\""
        }
       ],
       "type": "table"
      }
     },
     "output_type": "display_data"
    }
   ],
   "source": [
    "gold_car = spark.sql(\"\"\"\n",
    "SELECT \n",
    "    brand, \n",
    "    year, \n",
    "    COUNT(*) AS total_listings,\n",
    "    ROUND(AVG(price), 2) AS avg_price, \n",
    "    ROUND(AVG(mileage), 2) AS avg_mileage\n",
    "FROM silver_car\n",
    "GROUP BY brand, year\n",
    "\"\"\")\n",
    "display(gold_car.limit(5))"
   ]
  }
 ],
 "metadata": {
  "application/vnd.databricks.v1+notebook": {
   "computePreferences": null,
   "dashboards": [],
   "environmentMetadata": {
    "base_environment": "",
    "environment_version": "2"
   },
   "inputWidgetPreferences": null,
   "language": "python",
   "notebookMetadata": {
    "mostRecentlyExecutedCommandWithImplicitDF": {
     "commandId": 6644449803835294,
     "dataframes": [
      "_sqldf"
     ]
    },
    "pythonIndentUnit": 4
   },
   "notebookName": "Car Sales Analysis",
   "widgets": {}
  },
  "language_info": {
   "name": "python"
  }
 },
 "nbformat": 4,
 "nbformat_minor": 0
}